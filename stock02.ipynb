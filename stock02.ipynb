{
 "cells": [
  {
   "cell_type": "code",
   "execution_count": 1,
   "metadata": {
    "collapsed": true
   },
   "outputs": [],
   "source": [
    "import numpy as np\n",
    "import pandas as pd\n",
    "import matplotlib.pyplot as plt\n",
    "from sklearn.linear_model import LinearRegression"
   ]
  },
  {
   "cell_type": "code",
   "execution_count": 2,
   "metadata": {},
   "outputs": [
    {
     "name": "stderr",
     "output_type": "stream",
     "text": [
      "C:\\Anaconda3\\lib\\site-packages\\pandas_datareader\\compat\\__init__.py:7: FutureWarning: pandas.util.testing is deprecated. Use the functions in the public API at pandas.testing instead.\n",
      "  from pandas.util.testing import assert_frame_equal\n"
     ]
    }
   ],
   "source": [
    "import datetime as dt\n",
    "import pandas_datareader as reader"
   ]
  },
  {
   "cell_type": "code",
   "execution_count": 3,
   "metadata": {
    "collapsed": true
   },
   "outputs": [],
   "source": [
    "#pip install get-all-tickers\n",
    "from get_all_tickers import get_tickers as gt"
   ]
  },
  {
   "cell_type": "code",
   "execution_count": 4,
   "metadata": {
    "collapsed": true
   },
   "outputs": [],
   "source": [
    "tickerlist=gt.get_tickers()"
   ]
  },
  {
   "cell_type": "code",
   "execution_count": 5,
   "metadata": {
    "collapsed": true
   },
   "outputs": [],
   "source": [
    "# Save tickerlist\n",
    "gt.save_tickers()"
   ]
  },
  {
   "cell_type": "code",
   "execution_count": 6,
   "metadata": {
    "collapsed": true
   },
   "outputs": [],
   "source": [
    "stocklist=['AAPL', 'GOOG', 'FB', 'SPY', 'CLGX']\n",
    "stock=['SPY']"
   ]
  },
  {
   "cell_type": "code",
   "execution_count": 8,
   "metadata": {},
   "outputs": [],
   "source": [
    "# Download stock data for the list\n",
    "start=dt.datetime(2016, 1, 1)\n",
    "df=reader.DataReader(stocklist, 'yahoo', start)"
   ]
  },
  {
   "cell_type": "code",
   "execution_count": 9,
   "metadata": {},
   "outputs": [
    {
     "data": {
      "text/html": [
       "<div>\n",
       "<style scoped>\n",
       "    .dataframe tbody tr th:only-of-type {\n",
       "        vertical-align: middle;\n",
       "    }\n",
       "\n",
       "    .dataframe tbody tr th {\n",
       "        vertical-align: top;\n",
       "    }\n",
       "\n",
       "    .dataframe thead tr th {\n",
       "        text-align: left;\n",
       "    }\n",
       "\n",
       "    .dataframe thead tr:last-of-type th {\n",
       "        text-align: right;\n",
       "    }\n",
       "</style>\n",
       "<table border=\"1\" class=\"dataframe\">\n",
       "  <thead>\n",
       "    <tr>\n",
       "      <th>Attributes</th>\n",
       "      <th colspan=\"5\" halign=\"left\">Adj Close</th>\n",
       "      <th colspan=\"5\" halign=\"left\">Close</th>\n",
       "      <th>...</th>\n",
       "      <th colspan=\"5\" halign=\"left\">Open</th>\n",
       "      <th colspan=\"5\" halign=\"left\">Volume</th>\n",
       "    </tr>\n",
       "    <tr>\n",
       "      <th>Symbols</th>\n",
       "      <th>AAPL</th>\n",
       "      <th>GOOG</th>\n",
       "      <th>FB</th>\n",
       "      <th>SPY</th>\n",
       "      <th>CLGX</th>\n",
       "      <th>AAPL</th>\n",
       "      <th>GOOG</th>\n",
       "      <th>FB</th>\n",
       "      <th>SPY</th>\n",
       "      <th>CLGX</th>\n",
       "      <th>...</th>\n",
       "      <th>AAPL</th>\n",
       "      <th>GOOG</th>\n",
       "      <th>FB</th>\n",
       "      <th>SPY</th>\n",
       "      <th>CLGX</th>\n",
       "      <th>AAPL</th>\n",
       "      <th>GOOG</th>\n",
       "      <th>FB</th>\n",
       "      <th>SPY</th>\n",
       "      <th>CLGX</th>\n",
       "    </tr>\n",
       "    <tr>\n",
       "      <th>Date</th>\n",
       "      <th></th>\n",
       "      <th></th>\n",
       "      <th></th>\n",
       "      <th></th>\n",
       "      <th></th>\n",
       "      <th></th>\n",
       "      <th></th>\n",
       "      <th></th>\n",
       "      <th></th>\n",
       "      <th></th>\n",
       "      <th></th>\n",
       "      <th></th>\n",
       "      <th></th>\n",
       "      <th></th>\n",
       "      <th></th>\n",
       "      <th></th>\n",
       "      <th></th>\n",
       "      <th></th>\n",
       "      <th></th>\n",
       "      <th></th>\n",
       "      <th></th>\n",
       "    </tr>\n",
       "  </thead>\n",
       "  <tbody>\n",
       "    <tr>\n",
       "      <th>2016-01-04</th>\n",
       "      <td>97.948441</td>\n",
       "      <td>741.840027</td>\n",
       "      <td>102.220001</td>\n",
       "      <td>184.835175</td>\n",
       "      <td>33.125042</td>\n",
       "      <td>105.349998</td>\n",
       "      <td>741.840027</td>\n",
       "      <td>102.220001</td>\n",
       "      <td>201.020004</td>\n",
       "      <td>33.439999</td>\n",
       "      <td>...</td>\n",
       "      <td>102.610001</td>\n",
       "      <td>743.000000</td>\n",
       "      <td>101.949997</td>\n",
       "      <td>200.490005</td>\n",
       "      <td>33.220001</td>\n",
       "      <td>67649400.0</td>\n",
       "      <td>3272800.0</td>\n",
       "      <td>37912400.0</td>\n",
       "      <td>222353500.0</td>\n",
       "      <td>724500.0</td>\n",
       "    </tr>\n",
       "    <tr>\n",
       "      <th>2016-01-05</th>\n",
       "      <td>95.493919</td>\n",
       "      <td>742.580017</td>\n",
       "      <td>102.730003</td>\n",
       "      <td>185.147781</td>\n",
       "      <td>34.066093</td>\n",
       "      <td>102.709999</td>\n",
       "      <td>742.580017</td>\n",
       "      <td>102.730003</td>\n",
       "      <td>201.360001</td>\n",
       "      <td>34.389999</td>\n",
       "      <td>...</td>\n",
       "      <td>105.750000</td>\n",
       "      <td>746.450012</td>\n",
       "      <td>102.889999</td>\n",
       "      <td>201.399994</td>\n",
       "      <td>33.439999</td>\n",
       "      <td>55791000.0</td>\n",
       "      <td>1950700.0</td>\n",
       "      <td>23258200.0</td>\n",
       "      <td>110845800.0</td>\n",
       "      <td>814200.0</td>\n",
       "    </tr>\n",
       "    <tr>\n",
       "      <th>2016-01-06</th>\n",
       "      <td>93.625145</td>\n",
       "      <td>743.619995</td>\n",
       "      <td>102.970001</td>\n",
       "      <td>182.812286</td>\n",
       "      <td>35.274609</td>\n",
       "      <td>100.699997</td>\n",
       "      <td>743.619995</td>\n",
       "      <td>102.970001</td>\n",
       "      <td>198.820007</td>\n",
       "      <td>35.610001</td>\n",
       "      <td>...</td>\n",
       "      <td>100.559998</td>\n",
       "      <td>730.000000</td>\n",
       "      <td>101.129997</td>\n",
       "      <td>198.339996</td>\n",
       "      <td>33.910000</td>\n",
       "      <td>68457400.0</td>\n",
       "      <td>1947000.0</td>\n",
       "      <td>25096200.0</td>\n",
       "      <td>152112600.0</td>\n",
       "      <td>1427100.0</td>\n",
       "    </tr>\n",
       "    <tr>\n",
       "      <th>2016-01-07</th>\n",
       "      <td>89.673714</td>\n",
       "      <td>726.390015</td>\n",
       "      <td>97.919998</td>\n",
       "      <td>178.426331</td>\n",
       "      <td>34.967525</td>\n",
       "      <td>96.449997</td>\n",
       "      <td>726.390015</td>\n",
       "      <td>97.919998</td>\n",
       "      <td>194.050003</td>\n",
       "      <td>35.299999</td>\n",
       "      <td>...</td>\n",
       "      <td>98.680000</td>\n",
       "      <td>730.309998</td>\n",
       "      <td>100.500000</td>\n",
       "      <td>195.330002</td>\n",
       "      <td>34.959999</td>\n",
       "      <td>81094400.0</td>\n",
       "      <td>2963700.0</td>\n",
       "      <td>45172900.0</td>\n",
       "      <td>213436100.0</td>\n",
       "      <td>946800.0</td>\n",
       "    </tr>\n",
       "    <tr>\n",
       "      <th>2016-01-08</th>\n",
       "      <td>90.147873</td>\n",
       "      <td>714.469971</td>\n",
       "      <td>97.330002</td>\n",
       "      <td>176.467850</td>\n",
       "      <td>34.452423</td>\n",
       "      <td>96.959999</td>\n",
       "      <td>714.469971</td>\n",
       "      <td>97.330002</td>\n",
       "      <td>191.919998</td>\n",
       "      <td>34.779999</td>\n",
       "      <td>...</td>\n",
       "      <td>98.550003</td>\n",
       "      <td>731.450012</td>\n",
       "      <td>99.879997</td>\n",
       "      <td>195.190002</td>\n",
       "      <td>35.459999</td>\n",
       "      <td>70798000.0</td>\n",
       "      <td>2450900.0</td>\n",
       "      <td>35402300.0</td>\n",
       "      <td>209817200.0</td>\n",
       "      <td>889100.0</td>\n",
       "    </tr>\n",
       "  </tbody>\n",
       "</table>\n",
       "<p>5 rows × 30 columns</p>\n",
       "</div>"
      ],
      "text/plain": [
       "Attributes  Adj Close                                                 \\\n",
       "Symbols          AAPL        GOOG          FB         SPY       CLGX   \n",
       "Date                                                                   \n",
       "2016-01-04  97.948441  741.840027  102.220001  184.835175  33.125042   \n",
       "2016-01-05  95.493919  742.580017  102.730003  185.147781  34.066093   \n",
       "2016-01-06  93.625145  743.619995  102.970001  182.812286  35.274609   \n",
       "2016-01-07  89.673714  726.390015   97.919998  178.426331  34.967525   \n",
       "2016-01-08  90.147873  714.469971   97.330002  176.467850  34.452423   \n",
       "\n",
       "Attributes       Close                                                 ...  \\\n",
       "Symbols           AAPL        GOOG          FB         SPY       CLGX  ...   \n",
       "Date                                                                   ...   \n",
       "2016-01-04  105.349998  741.840027  102.220001  201.020004  33.439999  ...   \n",
       "2016-01-05  102.709999  742.580017  102.730003  201.360001  34.389999  ...   \n",
       "2016-01-06  100.699997  743.619995  102.970001  198.820007  35.610001  ...   \n",
       "2016-01-07   96.449997  726.390015   97.919998  194.050003  35.299999  ...   \n",
       "2016-01-08   96.959999  714.469971   97.330002  191.919998  34.779999  ...   \n",
       "\n",
       "Attributes        Open                                                 \\\n",
       "Symbols           AAPL        GOOG          FB         SPY       CLGX   \n",
       "Date                                                                    \n",
       "2016-01-04  102.610001  743.000000  101.949997  200.490005  33.220001   \n",
       "2016-01-05  105.750000  746.450012  102.889999  201.399994  33.439999   \n",
       "2016-01-06  100.559998  730.000000  101.129997  198.339996  33.910000   \n",
       "2016-01-07   98.680000  730.309998  100.500000  195.330002  34.959999   \n",
       "2016-01-08   98.550003  731.450012   99.879997  195.190002  35.459999   \n",
       "\n",
       "Attributes      Volume                                                 \n",
       "Symbols           AAPL       GOOG          FB          SPY       CLGX  \n",
       "Date                                                                   \n",
       "2016-01-04  67649400.0  3272800.0  37912400.0  222353500.0   724500.0  \n",
       "2016-01-05  55791000.0  1950700.0  23258200.0  110845800.0   814200.0  \n",
       "2016-01-06  68457400.0  1947000.0  25096200.0  152112600.0  1427100.0  \n",
       "2016-01-07  81094400.0  2963700.0  45172900.0  213436100.0   946800.0  \n",
       "2016-01-08  70798000.0  2450900.0  35402300.0  209817200.0   889100.0  \n",
       "\n",
       "[5 rows x 30 columns]"
      ]
     },
     "execution_count": 9,
     "metadata": {},
     "output_type": "execute_result"
    }
   ],
   "source": [
    "df.head()"
   ]
  },
  {
   "cell_type": "code",
   "execution_count": 10,
   "metadata": {},
   "outputs": [
    {
     "data": {
      "text/plain": [
       "[DatetimeIndex(['2016-01-04', '2016-01-05', '2016-01-06', '2016-01-07',\n",
       "                '2016-01-08', '2016-01-11', '2016-01-12', '2016-01-13',\n",
       "                '2016-01-14', '2016-01-15',\n",
       "                ...\n",
       "                '2020-05-20', '2020-05-21', '2020-05-22', '2020-05-26',\n",
       "                '2020-05-27', '2020-05-28', '2020-05-29', '2020-06-01',\n",
       "                '2020-06-02', '2020-06-03'],\n",
       "               dtype='datetime64[ns]', name='Date', length=1112, freq=None),\n",
       " MultiIndex([('Adj Close', 'AAPL'),\n",
       "             ('Adj Close', 'GOOG'),\n",
       "             ('Adj Close',   'FB'),\n",
       "             ('Adj Close',  'SPY'),\n",
       "             ('Adj Close', 'CLGX'),\n",
       "             (    'Close', 'AAPL'),\n",
       "             (    'Close', 'GOOG'),\n",
       "             (    'Close',   'FB'),\n",
       "             (    'Close',  'SPY'),\n",
       "             (    'Close', 'CLGX'),\n",
       "             (     'High', 'AAPL'),\n",
       "             (     'High', 'GOOG'),\n",
       "             (     'High',   'FB'),\n",
       "             (     'High',  'SPY'),\n",
       "             (     'High', 'CLGX'),\n",
       "             (      'Low', 'AAPL'),\n",
       "             (      'Low', 'GOOG'),\n",
       "             (      'Low',   'FB'),\n",
       "             (      'Low',  'SPY'),\n",
       "             (      'Low', 'CLGX'),\n",
       "             (     'Open', 'AAPL'),\n",
       "             (     'Open', 'GOOG'),\n",
       "             (     'Open',   'FB'),\n",
       "             (     'Open',  'SPY'),\n",
       "             (     'Open', 'CLGX'),\n",
       "             (   'Volume', 'AAPL'),\n",
       "             (   'Volume', 'GOOG'),\n",
       "             (   'Volume',   'FB'),\n",
       "             (   'Volume',  'SPY'),\n",
       "             (   'Volume', 'CLGX')],\n",
       "            names=['Attributes', 'Symbols'])]"
      ]
     },
     "execution_count": 10,
     "metadata": {},
     "output_type": "execute_result"
    }
   ],
   "source": [
    "df.axes"
   ]
  },
  {
   "cell_type": "code",
   "execution_count": 11,
   "metadata": {},
   "outputs": [
    {
     "data": {
      "image/png": "[encoded data removed]",
      "text/plain": [
       "<matplotlib.figure.Figure at 0x134875c5320>"
      ]
     },
     "metadata": {},
     "output_type": "display_data"
    }
   ],
   "source": [
    "plt.plot(df['Adj Close'])\n",
    "plt.show()"
   ]
  },
  {
   "cell_type": "code",
   "execution_count": 12,
   "metadata": {
    "collapsed": true
   },
   "outputs": [],
   "source": [
    "close=df['Adj Close']"
   ]
  },
  {
   "cell_type": "code",
   "execution_count": 13,
   "metadata": {},
   "outputs": [
    {
     "data": {
      "image/png": "[encoded data removed]",
      "text/plain": [
       "<matplotlib.figure.Figure at 0x134874a5da0>"
      ]
     },
     "metadata": {},
     "output_type": "display_data"
    }
   ],
   "source": [
    "plt.plot(close)\n",
    "plt.show()"
   ]
  },
  {
   "cell_type": "code",
   "execution_count": 14,
   "metadata": {},
   "outputs": [
    {
     "data": {
      "text/html": [
       "<div>\n",
       "<style scoped>\n",
       "    .dataframe tbody tr th:only-of-type {\n",
       "        vertical-align: middle;\n",
       "    }\n",
       "\n",
       "    .dataframe tbody tr th {\n",
       "        vertical-align: top;\n",
       "    }\n",
       "\n",
       "    .dataframe thead th {\n",
       "        text-align: right;\n",
       "    }\n",
       "</style>\n",
       "<table border=\"1\" class=\"dataframe\">\n",
       "  <thead>\n",
       "    <tr style=\"text-align: right;\">\n",
       "      <th>Symbols</th>\n",
       "      <th>AAPL</th>\n",
       "      <th>GOOG</th>\n",
       "      <th>FB</th>\n",
       "      <th>SPY</th>\n",
       "      <th>CLGX</th>\n",
       "    </tr>\n",
       "  </thead>\n",
       "  <tbody>\n",
       "    <tr>\n",
       "      <th>count</th>\n",
       "      <td>1112.000000</td>\n",
       "      <td>1112.000000</td>\n",
       "      <td>1112.000000</td>\n",
       "      <td>1112.000000</td>\n",
       "      <td>1112.000000</td>\n",
       "    </tr>\n",
       "    <tr>\n",
       "      <th>mean</th>\n",
       "      <td>171.043403</td>\n",
       "      <td>1024.819554</td>\n",
       "      <td>160.518849</td>\n",
       "      <td>249.076646</td>\n",
       "      <td>41.887768</td>\n",
       "    </tr>\n",
       "    <tr>\n",
       "      <th>std</th>\n",
       "      <td>59.887033</td>\n",
       "      <td>208.152899</td>\n",
       "      <td>31.281196</td>\n",
       "      <td>39.228135</td>\n",
       "      <td>5.273025</td>\n",
       "    </tr>\n",
       "    <tr>\n",
       "      <th>min</th>\n",
       "      <td>84.962914</td>\n",
       "      <td>668.260010</td>\n",
       "      <td>94.160004</td>\n",
       "      <td>168.137314</td>\n",
       "      <td>25.227356</td>\n",
       "    </tr>\n",
       "    <tr>\n",
       "      <th>25%</th>\n",
       "      <td>125.959999</td>\n",
       "      <td>819.174988</td>\n",
       "      <td>132.152496</td>\n",
       "      <td>216.344955</td>\n",
       "      <td>38.115096</td>\n",
       "    </tr>\n",
       "    <tr>\n",
       "      <th>50%</th>\n",
       "      <td>166.339218</td>\n",
       "      <td>1051.284973</td>\n",
       "      <td>166.320007</td>\n",
       "      <td>255.441452</td>\n",
       "      <td>41.634136</td>\n",
       "    </tr>\n",
       "    <tr>\n",
       "      <th>75%</th>\n",
       "      <td>202.900982</td>\n",
       "      <td>1174.017487</td>\n",
       "      <td>183.802502</td>\n",
       "      <td>279.189484</td>\n",
       "      <td>45.675797</td>\n",
       "    </tr>\n",
       "    <tr>\n",
       "      <th>max</th>\n",
       "      <td>326.316681</td>\n",
       "      <td>1526.689941</td>\n",
       "      <td>234.910004</td>\n",
       "      <td>336.362091</td>\n",
       "      <td>54.957455</td>\n",
       "    </tr>\n",
       "  </tbody>\n",
       "</table>\n",
       "</div>"
      ],
      "text/plain": [
       "Symbols         AAPL         GOOG           FB          SPY         CLGX\n",
       "count    1112.000000  1112.000000  1112.000000  1112.000000  1112.000000\n",
       "mean      171.043403  1024.819554   160.518849   249.076646    41.887768\n",
       "std        59.887033   208.152899    31.281196    39.228135     5.273025\n",
       "min        84.962914   668.260010    94.160004   168.137314    25.227356\n",
       "25%       125.959999   819.174988   132.152496   216.344955    38.115096\n",
       "50%       166.339218  1051.284973   166.320007   255.441452    41.634136\n",
       "75%       202.900982  1174.017487   183.802502   279.189484    45.675797\n",
       "max       326.316681  1526.689941   234.910004   336.362091    54.957455"
      ]
     },
     "execution_count": 14,
     "metadata": {},
     "output_type": "execute_result"
    }
   ],
   "source": [
    "close.describe()"
   ]
  },
  {
   "cell_type": "code",
   "execution_count": 15,
   "metadata": {
    "collapsed": true
   },
   "outputs": [],
   "source": [
    "df.to_csv('stock.csv')"
   ]
  },
  {
   "cell_type": "code",
   "execution_count": 16,
   "metadata": {},
   "outputs": [
    {
     "ename": "SyntaxError",
     "evalue": "invalid syntax (<ipython-input-16-13b5836b3ef2>, line 1)",
     "output_type": "error",
     "traceback": [
      "\u001b[1;36m  File \u001b[1;32m\"<ipython-input-16-13b5836b3ef2>\"\u001b[1;36m, line \u001b[1;32m1\u001b[0m\n\u001b[1;33m    df.['MF']=df.['Adj Close']*df.[Volume]\u001b[0m\n\u001b[1;37m       ^\u001b[0m\n\u001b[1;31mSyntaxError\u001b[0m\u001b[1;31m:\u001b[0m invalid syntax\n"
     ]
    }
   ],
   "source": [
    "df.['MF']=df.['Adj Close']*df.[Volume]"
   ]
  },
  {
   "cell_type": "code",
   "execution_count": null,
   "metadata": {
    "collapsed": true
   },
   "outputs": [],
   "source": []
  }
 ],
 "metadata": {
  "kernelspec": {
   "display_name": "Python 3",
   "language": "python",
   "name": "python3"
  },
  "language_info": {
   "codemirror_mode": {
    "name": "ipython",
    "version": 3
   },
   "file_extension": ".py",
   "mimetype": "text/x-python",
   "name": "python",
   "nbconvert_exporter": "python",
   "pygments_lexer": "ipython3",
   "version": "3.6.3"
  }
 },
 "nbformat": 4,
 "nbformat_minor": 2
}
