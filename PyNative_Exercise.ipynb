{
  "nbformat": 4,
  "nbformat_minor": 0,
  "metadata": {
    "colab": {
      "name": "PyNative_Exercise",
      "provenance": [],
      "authorship_tag": "ABX9TyMJ6Q7/GAIbdexlrI8Os7QS",
      "include_colab_link": true
    },
    "kernelspec": {
      "name": "python3",
      "display_name": "Python 3"
    },
    "language_info": {
      "name": "python"
    }
  },
  "cells": [
    {
      "cell_type": "markdown",
      "metadata": {
        "id": "view-in-github",
        "colab_type": "text"
      },
      "source": [
        "<a href=\"https://colab.research.google.com/github/hylabrook/PyNative_Exercise/blob/main/PyNative_Exercise.ipynb\" target=\"_parent\"><img src=\"https://colab.research.google.com/assets/colab-badge.svg\" alt=\"Open In Colab\"/></a>"
      ]
    },
    {
      "cell_type": "markdown",
      "source": [
        "**Exercise #01**"
      ],
      "metadata": {
        "id": "RKoq2Bi9byI2"
      }
    },
    {
      "cell_type": "code",
      "source": [
        "def mult_add(num1, num2):\n",
        "    mult=num1*num2\n",
        "    add=num1+num2\n",
        "    if mult>1000:\n",
        "      return mult\n",
        "    else:\n",
        "      return add"
      ],
      "metadata": {
        "id": "O5RxtGqmbyyk"
      },
      "execution_count": null,
      "outputs": []
    },
    {
      "cell_type": "code",
      "source": [
        "result=mult_add(100,20)\n",
        "print(\"The result is:\", result)"
      ],
      "metadata": {
        "colab": {
          "base_uri": "https://localhost:8080/"
        },
        "id": "DZHDSfE-ZVts",
        "outputId": "ea8d3f31-0c0f-4637-c403-ebf6b9013d89"
      },
      "execution_count": null,
      "outputs": [
        {
          "output_type": "stream",
          "name": "stdout",
          "text": [
            "The result is: 2000\n"
          ]
        }
      ]
    },
    {
      "cell_type": "code",
      "source": [
        "result=mult_add(20, 30)\n",
        "print(\"The result is:\", result)"
      ],
      "metadata": {
        "colab": {
          "base_uri": "https://localhost:8080/"
        },
        "id": "vt135iEvZwu2",
        "outputId": "d1ae895d-f49c-42bf-f1b0-bb5d9ae94d46"
      },
      "execution_count": null,
      "outputs": [
        {
          "output_type": "stream",
          "name": "stdout",
          "text": [
            "The result is: 50\n"
          ]
        }
      ]
    },
    {
      "cell_type": "markdown",
      "source": [
        "**Exercise #02**"
      ],
      "metadata": {
        "id": "zgIcmS1AbugE"
      }
    },
    {
      "cell_type": "code",
      "source": [
        "pre_num=0\n",
        "for i in range(10):\n",
        "  cur_num=i\n",
        "  sum=pre_num+cur_num\n",
        "  print(\"Current number is\", cur_num, \"Previous number is\", pre_num, \"The sum is\", sum)\n",
        "  pre_num=cur_num"
      ],
      "metadata": {
        "colab": {
          "base_uri": "https://localhost:8080/"
        },
        "id": "3S7m477zbwwV",
        "outputId": "1cf69b08-7a3c-4afa-8ace-d77f030faff9"
      },
      "execution_count": null,
      "outputs": [
        {
          "output_type": "stream",
          "name": "stdout",
          "text": [
            "Current number is 0 Previous number is 0 The sum is 0\n",
            "Current number is 1 Previous number is 0 The sum is 1\n",
            "Current number is 2 Previous number is 1 The sum is 3\n",
            "Current number is 3 Previous number is 2 The sum is 5\n",
            "Current number is 4 Previous number is 3 The sum is 7\n",
            "Current number is 5 Previous number is 4 The sum is 9\n",
            "Current number is 6 Previous number is 5 The sum is 11\n",
            "Current number is 7 Previous number is 6 The sum is 13\n",
            "Current number is 8 Previous number is 7 The sum is 15\n",
            "Current number is 9 Previous number is 8 The sum is 17\n"
          ]
        }
      ]
    },
    {
      "cell_type": "markdown",
      "source": [
        "**Exercise #03** "
      ],
      "metadata": {
        "id": "OKOOFa_LdLK-"
      }
    },
    {
      "cell_type": "code",
      "source": [
        "def print_evenc(str):\n",
        "  print(\"The original string is\", str)\n",
        "  for i in range(0, len(str), 2):\n",
        "    print(\"The ith\", i, \"character is\", str[i])\n"
      ],
      "metadata": {
        "id": "eWgfwFJadZSV"
      },
      "execution_count": 9,
      "outputs": []
    },
    {
      "cell_type": "code",
      "source": [
        "print_evenc(\"myfirstpythonnotebook\")"
      ],
      "metadata": {
        "id": "IGROgPTaAl-d",
        "outputId": "bd770a7f-0547-409d-a10d-554b2886282d",
        "colab": {
          "base_uri": "https://localhost:8080/"
        }
      },
      "execution_count": 10,
      "outputs": [
        {
          "output_type": "stream",
          "name": "stdout",
          "text": [
            "The original string is myfirstpythonnotebook\n",
            "The ith 0 character is m\n",
            "The ith 2 character is f\n",
            "The ith 4 character is r\n",
            "The ith 6 character is t\n",
            "The ith 8 character is y\n",
            "The ith 10 character is h\n",
            "The ith 12 character is n\n",
            "The ith 14 character is o\n",
            "The ith 16 character is e\n",
            "The ith 18 character is o\n",
            "The ith 20 character is k\n"
          ]
        }
      ]
    },
    {
      "cell_type": "code",
      "source": [
        "newstring=input(\"Please enter a string: \")\n",
        "print(\"The string is:\", newstring)\n",
        "for i in range(0, len(newstring)-1, 2):\n",
        "  print(\"The ith\", i, \"character is\", newstring[i])"
      ],
      "metadata": {
        "id": "JW1qjqrrA3yI",
        "outputId": "8ea7d095-5235-4a8f-c9e7-5a93d17f9f33",
        "colab": {
          "base_uri": "https://localhost:8080/"
        }
      },
      "execution_count": 12,
      "outputs": [
        {
          "output_type": "stream",
          "name": "stdout",
          "text": [
            "Please enter a string: python basic exercise\n",
            "The string is: python basic exercise\n",
            "The ith 0 character is p\n",
            "The ith 2 character is t\n",
            "The ith 4 character is o\n",
            "The ith 6 character is  \n",
            "The ith 8 character is a\n",
            "The ith 10 character is i\n",
            "The ith 12 character is  \n",
            "The ith 14 character is x\n",
            "The ith 16 character is r\n",
            "The ith 18 character is i\n"
          ]
        }
      ]
    },
    {
      "cell_type": "code",
      "source": [
        "newstring=input(\"Please enter a string: \")\n",
        "print(\"The string is:\", newstring)\n",
        "x = list(newstring)\n",
        "for i in x[0::2]:\n",
        "    print(i)"
      ],
      "metadata": {
        "id": "Hnu3qC3PCjKg",
        "outputId": "0e7bf599-38e2-48a9-e90a-a7c6034fcec6",
        "colab": {
          "base_uri": "https://localhost:8080/"
        }
      },
      "execution_count": 13,
      "outputs": [
        {
          "output_type": "stream",
          "name": "stdout",
          "text": [
            "Please enter a string: python\n",
            "The string is: python\n",
            "p\n",
            "t\n",
            "o\n"
          ]
        }
      ]
    },
    {
      "cell_type": "code",
      "source": [
        "print(x)"
      ],
      "metadata": {
        "id": "Ma5SXn77C31a",
        "outputId": "3c151cc4-e885-42ca-b046-884c39fcbbde",
        "colab": {
          "base_uri": "https://localhost:8080/"
        }
      },
      "execution_count": 14,
      "outputs": [
        {
          "output_type": "stream",
          "name": "stdout",
          "text": [
            "['p', 'y', 't', 'h', 'o', 'n']\n"
          ]
        }
      ]
    }
  ]
}