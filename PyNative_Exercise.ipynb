{
  "nbformat": 4,
  "nbformat_minor": 0,
  "metadata": {
    "colab": {
      "name": "PyNative_Exercise",
      "provenance": [],
      "authorship_tag": "ABX9TyMhasN8gq6+vkW9Kq+J8oIq",
      "include_colab_link": true
    },
    "kernelspec": {
      "name": "python3",
      "display_name": "Python 3"
    },
    "language_info": {
      "name": "python"
    }
  },
  "cells": [
    {
      "cell_type": "markdown",
      "metadata": {
        "id": "view-in-github",
        "colab_type": "text"
      },
      "source": [
        "<a href=\"https://colab.research.google.com/github/hylabrook/PyNative_Exercise/blob/main/PyNative_Exercise.ipynb\" target=\"_parent\"><img src=\"https://colab.research.google.com/assets/colab-badge.svg\" alt=\"Open In Colab\"/></a>"
      ]
    },
    {
      "cell_type": "markdown",
      "source": [
        "Exercise #01"
      ],
      "metadata": {
        "id": "RKoq2Bi9byI2"
      }
    },
    {
      "cell_type": "code",
      "source": [
        "def mult_add(num1, num2):\n",
        "    mult=num1*num2\n",
        "    add=num1+num2\n",
        "    if mult>1000:\n",
        "      return mult\n",
        "    else:\n",
        "      return add"
      ],
      "metadata": {
        "id": "O5RxtGqmbyyk"
      },
      "execution_count": null,
      "outputs": []
    },
    {
      "cell_type": "code",
      "source": [
        "result=mult_add(100,20)\n",
        "print(\"The result is:\", result)"
      ],
      "metadata": {
        "colab": {
          "base_uri": "https://localhost:8080/"
        },
        "id": "DZHDSfE-ZVts",
        "outputId": "ea8d3f31-0c0f-4637-c403-ebf6b9013d89"
      },
      "execution_count": 7,
      "outputs": [
        {
          "output_type": "stream",
          "name": "stdout",
          "text": [
            "The result is: 2000\n"
          ]
        }
      ]
    },
    {
      "cell_type": "code",
      "source": [
        "result=mult_add(20, 30)\n",
        "print(\"The result is:\", result)"
      ],
      "metadata": {
        "colab": {
          "base_uri": "https://localhost:8080/"
        },
        "id": "vt135iEvZwu2",
        "outputId": "d1ae895d-f49c-42bf-f1b0-bb5d9ae94d46"
      },
      "execution_count": 6,
      "outputs": [
        {
          "output_type": "stream",
          "name": "stdout",
          "text": [
            "The result is: 50\n"
          ]
        }
      ]
    },
    {
      "cell_type": "markdown",
      "source": [
        "Exercise #02"
      ],
      "metadata": {
        "id": "zgIcmS1AbugE"
      }
    },
    {
      "cell_type": "code",
      "source": [
        "pre_num=0\n",
        "for i in range(10):\n",
        "  cur_num=i\n",
        "  sum=pre_num+cur_num\n",
        "  print(\"Current number is\", cur_num, \"Previous number is\", pre_num, \"The sum is\", sum)\n",
        "  pre_num=cur_num"
      ],
      "metadata": {
        "colab": {
          "base_uri": "https://localhost:8080/"
        },
        "id": "3S7m477zbwwV",
        "outputId": "1cf69b08-7a3c-4afa-8ace-d77f030faff9"
      },
      "execution_count": 10,
      "outputs": [
        {
          "output_type": "stream",
          "name": "stdout",
          "text": [
            "Current number is 0 Previous number is 0 The sum is 0\n",
            "Current number is 1 Previous number is 0 The sum is 1\n",
            "Current number is 2 Previous number is 1 The sum is 3\n",
            "Current number is 3 Previous number is 2 The sum is 5\n",
            "Current number is 4 Previous number is 3 The sum is 7\n",
            "Current number is 5 Previous number is 4 The sum is 9\n",
            "Current number is 6 Previous number is 5 The sum is 11\n",
            "Current number is 7 Previous number is 6 The sum is 13\n",
            "Current number is 8 Previous number is 7 The sum is 15\n",
            "Current number is 9 Previous number is 8 The sum is 17\n"
          ]
        }
      ]
    },
    {
      "cell_type": "markdown",
      "source": [
        "Exercise #03"
      ],
      "metadata": {
        "id": "OKOOFa_LdLK-"
      }
    },
    {
      "cell_type": "code",
      "source": [
        ""
      ],
      "metadata": {
        "id": "eWgfwFJadZSV"
      },
      "execution_count": null,
      "outputs": []
    }
  ]
}